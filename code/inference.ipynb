{
 "cells": [
  {
   "cell_type": "code",
   "execution_count": 43,
   "id": "a1f9bd60-132c-43df-90ae-c8b243b73632",
   "metadata": {},
   "outputs": [],
   "source": [
    "import pickle\n",
    "import spacy\n",
    "import numpy as np\n",
    "import json,re\n",
    "MODEL_PATH = \"../model/classifier.p\"\n",
    "INDEX_TO_LABEL_FILE_PATH = \"../metadata/index_to_label.json\"\n"
   ]
  },
  {
   "cell_type": "code",
   "execution_count": 44,
   "id": "2a297104-dc7d-45d3-9319-e6ae383d10f4",
   "metadata": {},
   "outputs": [
    {
     "name": "stdout",
     "output_type": "stream",
     "text": [
      "Loading spacy model\n",
      "Done loading spacy model\n"
     ]
    }
   ],
   "source": [
    "print (\"Loading spacy model\")\n",
    "spacy_model = spacy.load(\"en_core_web_md\")\n",
    "print (\"Done loading spacy model\")"
   ]
  },
  {
   "cell_type": "code",
   "execution_count": 45,
   "id": "3fc384de-9b79-4ecc-9706-aefcc90a6c6c",
   "metadata": {},
   "outputs": [],
   "source": [
    "def get_index_label_dict():\n",
    "    \n",
    "    index_to_label_dict = None\n",
    "    try:\n",
    "        with open(INDEX_TO_LABEL_FILE_PATH) as json_data:\n",
    "            index_to_label_dict = json.load(json_data)\n",
    "    except:\n",
    "        print(\"Unable to read index to index to label dict\")\n",
    "    return index_to_label_dict"
   ]
  },
  {
   "cell_type": "code",
   "execution_count": 46,
   "id": "844c7656-858e-4908-bd99-7fe853149c61",
   "metadata": {},
   "outputs": [],
   "source": [
    "def lemmatize(text):\n",
    "        sent = []\n",
    "        doc = spacy_model(text)\n",
    "        for word in doc:\n",
    "            sent.append(word.lemma_)\n",
    "        return \" \".join(sent)"
   ]
  },
  {
   "cell_type": "code",
   "execution_count": 47,
   "id": "fcac16d4-e3d1-4fad-93c2-dbda87bbe8f1",
   "metadata": {},
   "outputs": [],
   "source": [
    "def clean_sentence(sent):\n",
    "    #Remove all special characters except space,?\n",
    "    sent = sent.lower()\n",
    "    sent = sent.replace('\\n', ' ')\n",
    "    sent = re.sub('[^A-Za-z0-9 ?]+', ' ', sent)\n",
    "    sent = re.sub(' +', ' ', sent)      #Removing adjascent spaces\n",
    "    sent = re.sub('\\?+', '?', sent)      #Removing adjascent spaces\n",
    "    return sent.strip(\" \")\n"
   ]
  },
  {
   "cell_type": "code",
   "execution_count": 48,
   "id": "f70f7f1f-4217-4da3-8b7d-563356ba4131",
   "metadata": {},
   "outputs": [],
   "source": [
    "##Not intended for production\n",
    "##Ideally should be a singleton\n",
    "def get_classifier(): \n",
    "        classifier = None\n",
    "        print(\"Loading classifier\")\n",
    "        try:\n",
    "            f = open(MODEL_PATH, 'rb')   # 'rb' for reading binary file\n",
    "            classifier = pickle.load(f)\n",
    "            print(\"Loaded classifier\")\n",
    "            f.close()\n",
    "        except Exception as e :\n",
    "            print(\"Exception in loading classifier:\" + str(e))\n",
    "        return classifier"
   ]
  },
  {
   "cell_type": "code",
   "execution_count": null,
   "id": "040ece5d-33c7-4872-9371-01b3e1ce8eb0",
   "metadata": {},
   "outputs": [],
   "source": []
  },
  {
   "cell_type": "code",
   "execution_count": 53,
   "id": "1a990cb2-f4c1-4a3f-9ccb-df08c4048914",
   "metadata": {},
   "outputs": [
    {
     "name": "stdout",
     "output_type": "stream",
     "text": [
      "Loading classifier\n",
      "Loaded classifier\n"
     ]
    },
    {
     "data": {
      "text/plain": [
       "{'label': 'NEGATIVE', 'probability': 0.8922557220999955}"
      ]
     },
     "execution_count": 53,
     "metadata": {},
     "output_type": "execute_result"
    }
   ],
   "source": [
    "def predict(query):\n",
    "    \"\"\"\n",
    "     Accepts a query and classifies it using the trained model\n",
    "     Applies the same preprocessing pipleine of clean, lemmatize before inference\n",
    "\n",
    "    \"\"\"\n",
    "       \n",
    "    model = get_classifier()\n",
    "    if(model is not None):\n",
    "        query_cleaned = clean_sentence(str(query))\n",
    "        query_lemmatized = lemmatize(str(query_cleaned))\n",
    "        prediction = model.predict_proba(np.array(spacy_model(query_lemmatized).vector).reshape(1,300))\n",
    "        index_to_label_dict = get_index_label_dict()\n",
    "        label_index = np.argmax(prediction)\n",
    "        label = index_to_label_dict[str(label_index)]\n",
    "        class_score = prediction[0][label_index]\n",
    "        return {\"label\":label,\n",
    "                \"probability\":class_score}\n",
    "    else:\n",
    "        print(\"Unable to load classifier\")\n",
    "\n",
    "\n",
    "predict(\"fake people\")"
   ]
  }
 ],
 "metadata": {
  "kernelspec": {
   "display_name": "Python 3 (ipykernel)",
   "language": "python",
   "name": "python3"
  },
  "language_info": {
   "codemirror_mode": {
    "name": "ipython",
    "version": 3
   },
   "file_extension": ".py",
   "mimetype": "text/x-python",
   "name": "python",
   "nbconvert_exporter": "python",
   "pygments_lexer": "ipython3",
   "version": "3.8.12"
  }
 },
 "nbformat": 4,
 "nbformat_minor": 5
}
